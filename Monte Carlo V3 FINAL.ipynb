# Monte Carlo Simulation to quantify the effects of random variables and stress test the potential financial results of a residential solar developer

import numpy as np
import pandas as pd
import matplotlib.pyplot as plt
import matplotlib.ticker as ticker
from openpyxl import load_workbook

np.set_printoptions(precision=3)

# define constants

# Payment Milestones as a % (sum to 100%)
ntp_payment = 0.2   # Notice to proceed
mc_payment = 0.6    # mechanical completion
ato_payment = 0.2   # authorization to operate


# Account for Revenue Delay from Sales through subsequent milestones
ntp_forecast_months = 1.3
mc_forecast_months = 1.4
ato_forecast_months = 1.7

# File and sheet setup
file_path = 'C:/Users/mauli/OneDrive/New Columbia Solar/Consulting/Resi Financial Model MC R2_Standard Output.xlsx'
sheet_name = 'Assumptions'

# Load specific rows and columns directly into a DataFrame
df = pd.read_excel(
    file_path,
    sheet_name=sheet_name,
    usecols='C:BJ',  # Specify columns to read
    skiprows=lambda x: x not in [55, 56, 57, 58, 62, 63, 67, 68, 69, 70, 71, 72, 74, 75],  # Rows you need
    header=None  # No header in these rows
)

# Manually assign column names based on the assumptions provided
column_names = [
    'Headcount', 'Net New Heads', 'Net New Sales Reps', 'Active Sales Reps',
    'Close to Install', 'Lead to Install', 'Sales Reps', 'Effective HC',
    'Sales Quota', 'Lead Target', 'Budgeted Sales Target', 'Install Target',
    'Total Sold', 'Total Installed'
]

# Assign column names
df.columns = column_names

# Convert all values to float, replacing NaN with 0
df = df.apply(pd.to_numeric, errors='coerce').fillna(0)

# Transpose the DataFrame so that the columns become rows and vice versa
df = df.T

# Set the index to a date range (2025-01-01 to 60 months later)
df.columns = pd.date_range(start='2025-01-01', periods=df.shape[1], freq='MS')

# Display the DataFrame (for confirmation)
df.head()


# Define the parameters for the triangular distributions
tpo_payment_low = 3.0
tpo_payment_mode = 3.275
tpo_payment_high = 3.60

epc_build_low = 1.95
epc_build_mode = 2.25
epc_build_high = 2.35

# lead_to_close_data replace inputs from static excel to this
lead_to_close_low = 0.0699
lead_to_close_mode = 0.07
lead_to_close_high = 0.0701

# cancel_rate_data replace inputs from static excel to this
cancel_rate_low = .2749
cancel_rate_mode = .275
cancel_rate_high = .2751

system_size_low = 4500  # watts
system_size_mode = 8000  # watts
system_size_high = 12000  # watts

# Define the number of simulations for the Monte Carlo method
num_simulations = 5000

# Generate random variables with triangular distributions
tpo_payment = np.random.triangular(3.0, 3.275, 3.6, size=60)
epc_build = np.random.triangular(1.95, 2.25, 2.35, size=60)
lead_to_close = np.random.triangular(0.0699, 0.07, 0.0701, size=60)
cancel_rate = np.random.triangular(.2749, .275, .2751, size=60)
system_size = np.random.triangular(4500, 8000, 12000, size=60)
lead_to_install = (1-cancel_rate / lead_to_close)
close_to_install = lead_to_install / lead_to_close
lead_to_install2 = (1-cancel_rate)*(lead_to_close)

print("System Sizes: ", np.round(system_size,0), "\n")
print("Lead to close results: ", np.round(lead_to_close, 3))
print("Cancel rate results: ", np.round(cancel_rate, 3))
print("close to install results: ", np.round(lead_to_install,3))
print("Close to install results: ", np.round(close_to_install, 3))
print("Lead to Install results: ", np.round(lead_to_install2, 3))

# sales_count_data should be equal to the Install Target in the dataframe
sales_count_data = df['Budgeted Sales Target'].values


# Incorporate Lag from Sale to ATO for the purposes of quantifying the count
# Create a lag rounding up for the variable ato_forecast_months and
# shifting the values of the sales_count_data a number of months
ato_forecast_delay_months = round(ato_forecast_months)
delayed_installs_count = np.pad(sales_count_data, (ato_forecast_delay_months,0), mode='constant') #[:ato_forecast_delay_months]

print("Number of values in Sales Count: {}\n".format(len(sales_count_data)))
print("Monthly sales: ", list(map(int, sales_count_data)))
print("Number of values in Installs: {}\n".format(len(delayed_installs_count)))


# print("Monthly Installs accounting for ATO lag")
# print(delayed_installs_count)

print("Number of values in Installs: {}\n".format(len(delayed_installs_count)))
print(list(map(int, delayed_installs_count)))

# Plot the results
plt.hist(tpo_payment, bins=30, alpha=0.5, label='TPO Payment')
plt.hist(epc_build, bins=30, alpha=0.5, label='EPC Build')
plt.legend()
plt.title('Triangular Distributions')
plt.show()

plt.hist(tpo_payment, bins=30, alpha=0.5, label='TPO Payment')
plt.title('TPO Payment Frequency')
plt.xlabel('$ per Watt')
plt.ylabel('Frequency')
plt.show()

plt.hist(epc_build, bins=30, alpha=0.5, label='EPC Build')
plt.title('EPC Build Frequency')
plt.xlabel('$ per Watt')
plt.ylabel('Frequency')
plt.show()


plt.hist(system_size, bins=30, alpha=0.5, label='System Size')
plt.title('System Size')
plt.xlabel('Value in Watts')
plt.ylabel('Frequency')
plt.show()

# Create empty lists to store the simulation results
revenue_ntp_simulations = []
revenue_mc_simulations = []
revenue_ato_simulations = []
gross_revenue_simulations = []

# Run the Monte Carlo simulation
for i in range(num_simulations):

    # install_count_data should be the 'Install Target' from the dataframe
    install_count_data = df['Install Target'].values

    random_constant = (tpo_payment - epc_build) * install_count_data * system_size

    revenue_ntp = ntp_payment * random_constant
    revenue_mc = mc_payment * random_constant
    revenue_ato = ato_payment * random_constant
    gross_revenue = revenue_ntp + revenue_mc + revenue_ato

    revenue_ntp_simulations.append(revenue_ntp)
    revenue_mc_simulations.append(revenue_mc)
    revenue_ato_simulations.append(revenue_ato)
    gross_revenue_simulations.append(gross_revenue)

# Calculate mean of simulation results
revenue_ntp_mean = np.mean(revenue_ntp_simulations, axis=0)
revenue_mc_mean = np.mean(revenue_mc_simulations, axis=0)
revenue_ato_mean = np.mean(revenue_ato_simulations, axis=0)
gross_revenue_mean = np.mean(gross_revenue_simulations, axis=0)  # Calculate mean of gross revenue simulation


# import cumulative fixed and variable costs.
# includes Systems & Support + Legal + Business Insurance + Accounting + Marketing + Staffing + all in costs
# Import data from Expenses sheet, cells C86:BJ86

# Import data from Excel
file_path = 'C:/Users/mauli/OneDrive/New Columbia Solar/Consulting/Resi Financial Model MC R2_Standard Output.xlsx'
# file_path = 'C:/Users/mauli/OneDrive/New Columbia Solar/Consulting/Resi Financial Model MC R2.xlsx'
sheet_name = 'Expenses'

# Load the workbook with data only
wb = load_workbook(file_path, data_only=True)
ws = wb[sheet_name]

# Define fixed_and_variable_costs
fixed_and_variable_costs = [cell.value for cell in ws['C86:BJ86'][0]]

wb.close()

# Create a DataFrame with fixed_and_variable_costs
fixed_and_variable_costs_df = pd.DataFrame({
    'Fixed and Variable Costs': fixed_and_variable_costs
}, index=pd.date_range(start='2025-01-01', periods=60, freq='MS')) # Set the index to match simulation_results

# Create a DataFrame with the simulation results
simulation_results = pd.DataFrame({
    'Revenue NTP': revenue_ntp_mean,
    'Revenue MC': revenue_mc_mean,
    'Revenue ATO': revenue_ato_mean,
    'Gross Revenue': gross_revenue_mean,
    'Fixed and Variable Costs': fixed_and_variable_costs
}, index=pd.date_range(start='2025-01-01', periods=60, freq='MS'))

# Add commas as thousands separators
simulation_results = simulation_results.apply(lambda x: x.apply(lambda y: '{:,.0f}'.format(y)))

# Change date format to MM-YY and make it a column
simulation_results.reset_index(inplace=True)
simulation_results.rename(columns={'index': 'Date'}, inplace=True)
simulation_results['Date'] = simulation_results['Date'].dt.strftime('%m-%y')

# Set column names
column_names = ['Date', 'Revenue NTP', 'Revenue MC', 'Revenue ATO', 'Gross Revenue', 'Fixed and Variable Costs']
simulation_results.columns = column_names

# Print the formatted DataFrame
print(simulation_results)

# confirm inputs for fixed_and_variable_costs_data
fixed_and_variable_costs_df = pd.DataFrame({
    'Fixed and Variable Costs': fixed_and_variable_costs
}, index=simulation_results.index) #set the index to match simulation_results

# Now you can perform the addition
simulation_results['Net Revenue'] = simulation_results['Gross Revenue'].apply(lambda x: float(x.replace(',', ''))) + fixed_and_variable_costs_df['Fixed and Variable Costs']

# Create a DataFrame for 'Net Revenue'
print()
print("Preview Monthly Net Revenue Results")
print()
net_revenue_df_display = pd.DataFrame({
     'Net Revenue': simulation_results['Net Revenue'].apply(lambda x: '{:,.0f}'.format(x))
}, index=simulation_results.index)

print(net_revenue_df_display)
print()


# Plot Gross Revenue vs Fixed and Variable Costs
## Have to remove the commas to display charts correctly
plt.figure(figsize=(10, 6))
plt.plot(simulation_results['Gross Revenue'].apply(lambda x: float(x.replace(',', ''))), label='Gross Revenue')
plt.plot(simulation_results['Fixed and Variable Costs'].apply(lambda x: float(x.replace(',', ''))), label='Fixed and Variable Costs')
plt.title('Gross Revenue vs Fixed and Variable Costs')
plt.xlabel('Month')
plt.ylabel('Dollars ($)')
plt.ylim(-1000000, 2500000)  # Update y-axis limits

# Format y-axis tick labels with commas
plt.gca().yaxis.set_major_formatter(ticker.FuncFormatter(lambda x, loc: "{:,}".format(int(x))))
plt.legend()
plt.show()

# Plot Net Revenue
plt.figure(figsize=(10, 6))
plt.plot(simulation_results['Net Revenue'], label='Net Revenue')
plt.title('Net Revenue')
plt.xlabel('Month')
plt.ylabel('Dollars ($)')
plt.ylim(-250000, 1750000)  # Update y-axis limits

# Format y-axis tick labels with commas and integers
plt.gca().yaxis.set_major_formatter(ticker.FuncFormatter(lambda x, loc: "{:,}".format(int(x))))

plt.legend()
plt.show()
